{
 "cells": [
  {
   "cell_type": "markdown",
   "metadata": {},
   "source": [
    "# Extract text from PDF resumes"
   ]
  },
  {
   "cell_type": "code",
   "execution_count": 1,
   "metadata": {
    "collapsed": false
   },
   "outputs": [],
   "source": [
    "# These are the packages we need to import. If you get an error like \"No module named ...\", \n",
    "# try going to the command line and typing \"pip install ...\" (insert package name)\n",
    "from pdfminer.pdfinterp import PDFResourceManager, PDFPageInterpreter\n",
    "from pdfminer.converter import TextConverter\n",
    "from pdfminer.layout import LAParams\n",
    "from pdfminer.pdfpage import PDFPage\n",
    "from cStringIO import StringIO"
   ]
  },
  {
   "cell_type": "code",
   "execution_count": 2,
   "metadata": {
    "collapsed": true
   },
   "outputs": [],
   "source": [
    "# This is a function which reads in a PDF file and extracts the raw text\n",
    "def convert_pdf_to_txt(path):\n",
    "    \"\"\"\n",
    "    Adapted from this StackOverflow answer:\n",
    "    https://stackoverflow.com/questions/26494211/extracting-text-from-a-pdf-file-using-pdfminer-in-python/26495057#26495057\n",
    "    \"\"\"\n",
    "    rsrcmgr = PDFResourceManager() \n",
    "    retstr = StringIO()\n",
    "    device = TextConverter(rsrcmgr, retstr, laparams=LAParams())\n",
    "    fp = file(path, 'rb') # Open the file for reading ('rb')\n",
    "    \n",
    "    interpreter = PDFPageInterpreter(rsrcmgr, device)\n",
    "    for page in PDFPage.get_pages(fp):\n",
    "        interpreter.process_page(page)\n",
    "\n",
    "    text = retstr.getvalue()\n",
    "\n",
    "    fp.close() # Close the file\n",
    "    device.close()\n",
    "    retstr.close()\n",
    "    return text"
   ]
  },
  {
   "cell_type": "code",
   "execution_count": 3,
   "metadata": {
    "collapsed": false
   },
   "outputs": [],
   "source": [
    "# Okay let's try it out. Reading in my CV and saving to a variable\n",
    "plain_text = convert_pdf_to_txt(\"resume.pdf\")"
   ]
  },
  {
   "cell_type": "code",
   "execution_count": 4,
   "metadata": {
    "collapsed": false
   },
   "outputs": [
    {
     "name": "stdout",
     "output_type": "stream",
     "text": [
      "Allison Morgan\n",
      "\n",
      "Email allison.morgan@gmail.com\n",
      "Social LinkedIn, Github\n",
      "\n",
      "Cell (626) 827-7231\n",
      "Web allisonmorgan.github.io\n",
      "\n",
      "Education\n",
      "\n",
      "University of Colorado Boulder, CO. PhD Computer Science, Expected May 2021\n",
      "\n",
      "• Relevant Coursework: Network Analysis & Modeling, Machine Learning\n",
      "\n",
      "Research\n",
      "\n",
      "Professional\n",
      "\n",
      "Skills\n",
      "\n",
      "Activities\n",
      "\n",
      "Reed College Portland, OR. BA Physics, May 2014\n",
      "\n",
      "• Relevant Coursework: Algorithms & Data Structures, Scientiﬁc Computation\n",
      "• Awards: Commendations for Academic Excellence in 2012-2014\n",
      "\n",
      "Research Assistant Computer Science Department, University of Colorado. Boul-\n",
      "der, CO. August 2016 to Present\n",
      "• Advised by Professor Aaron Clauset. Investigating social inequality within fac-\n",
      "ulty hiring networks. Writing a web crawler to scrape faculty directories for all\n",
      "departments of PhD granting institutions. Our objective is to collect longitu-\n",
      "dinal data on faculty hiring to better understand the interactions between the\n",
      "dynamics of faculty hiring and observed patterns of inequality.\n",
      "\n",
      "Research Assistant Physics Department, Reed College. Portland, OR. May 2013\n",
      "to August 2013\n",
      "• Advised by Professor Joel Franklin. Computed bound state solutions to\n",
      "Schr¨odinger’s equation for a potential due to gravity. Computations were done\n",
      "using 4th order Runge-Kutta in Mathematica. Presented my contribution to\n",
      "Reed’s Physics Department. Published in Classical Quantum Gravity.\n",
      "\n",
      "Research Assistant Department of Electrical and Computer Engineering, Univer-\n",
      "sity of Illinois at Chicago. Chicago, IL. May 2012 to August 2012\n",
      "• Advised by Professor Alan Feinerman. Experimentally determined the perco-\n",
      "lation threshold for rectangle shaped pores using a CO2 laser cutting system.\n",
      "Learned MATLAB and AutoCAD quickly and independently. Presented results\n",
      "to undergraduates at a conference at the conclusion of the internship.\n",
      "\n",
      "Data Scientist Lytics. Portland, OR. August 2014 to June 2016\n",
      "\n",
      "• Planned and implemented products to help marketers understand and address\n",
      "their clients’ behavior across channels. Some of these solutions included: anomaly\n",
      "detection on trends in segment sizes, improving an existing random forest model\n",
      "for predicting users’ likelihood to return, and integrating with third-party ser-\n",
      "vices to classify the content users have viewed.\n",
      "\n",
      "Languages: Go, R, Python, Mathematica, MATLAB, HTML\n",
      "Database Systems: Elasticsearch, MongoDB, Kafka, SQL\n",
      "\n",
      "• Constructed a musical staircase in an academic building using an Arduino Uno\n",
      "\n",
      "and 16 pairs of lasers and phototransistors. Featured in Reed Magazine.\n",
      "\n",
      "• Co-founded Reed’s women in STEM support group (“STEMfemmes”) and or-\n",
      "ganized faculty lectures and student and alumni socials in support. Featured in\n",
      "Reed Magazine.\n",
      "\n",
      "\f",
      "\n"
     ]
    }
   ],
   "source": [
    "# Here's what PDFMiner returns\n",
    "print plain_text"
   ]
  },
  {
   "cell_type": "code",
   "execution_count": null,
   "metadata": {
    "collapsed": true
   },
   "outputs": [],
   "source": []
  }
 ],
 "metadata": {
  "kernelspec": {
   "display_name": "Python 2",
   "language": "python",
   "name": "python2"
  },
  "language_info": {
   "codemirror_mode": {
    "name": "ipython",
    "version": 2
   },
   "file_extension": ".py",
   "mimetype": "text/x-python",
   "name": "python",
   "nbconvert_exporter": "python",
   "pygments_lexer": "ipython2",
   "version": "2.7.12"
  }
 },
 "nbformat": 4,
 "nbformat_minor": 1
}
